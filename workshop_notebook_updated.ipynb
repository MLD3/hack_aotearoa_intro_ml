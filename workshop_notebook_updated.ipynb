{
  "nbformat": 4,
  "nbformat_minor": 0,
  "metadata": {
    "colab": {
      "name": "workshop_notebook.ipynb",
      "version": "0.3.2",
      "provenance": [],
      "include_colab_link": true
    },
    "kernelspec": {
      "display_name": "Python 3",
      "language": "python",
      "name": "python3"
    }
  },
  "cells": [
    {
      "cell_type": "markdown",
      "metadata": {
        "id": "view-in-github",
        "colab_type": "text"
      },
      "source": [
        "<a href=\"https://colab.research.google.com/github/mld3/hack_aotearoa_intro_ml/blob/master/workshop_notebook_updated.ipynb\" target=\"_parent\"><img src=\"https://colab.research.google.com/assets/colab-badge.svg\" alt=\"Open In Colab\"/></a>"
      ]
    },
    {
      "metadata": {
        "id": "NPOYJ4hihiLq",
        "colab_type": "text"
      },
      "cell_type": "markdown",
      "source": [
        "#### 0 - Requirements\n",
        "Check scikit-learn version, install tqdm if necessary, load useful packages."
      ]
    },
    {
      "metadata": {
        "id": "YM1aof5qhiMR",
        "colab_type": "code",
        "colab": {}
      },
      "cell_type": "code",
      "source": [
        "import sklearn\n",
        "import pandas as pd\n",
        "import numpy as np\n",
        "import itertools\n",
        "from google.colab import drive\n",
        "drive.mount('/content/gdrive')"
      ],
      "execution_count": 0,
      "outputs": []
    },
    {
      "metadata": {
        "id": "0tBoK5VEiuEZ",
        "colab_type": "code",
        "colab": {
          "base_uri": "https://localhost:8080/",
          "height": 208
        },
        "outputId": "a36643b6-752e-449d-9b50-07a78cf37c63"
      },
      "cell_type": "code",
      "source": [
        "!wget http://web.eecs.umich.edu/~wiensj/workshop/helper_colab.py"
      ],
      "execution_count": 3,
      "outputs": [
        {
          "output_type": "stream",
          "text": [
            "--2019-01-17 04:34:33--  http://web.eecs.umich.edu/~wiensj/workshop/helper_colab.py\n",
            "Resolving web.eecs.umich.edu (web.eecs.umich.edu)... 141.212.113.110\n",
            "Connecting to web.eecs.umich.edu (web.eecs.umich.edu)|141.212.113.110|:80... connected.\n",
            "HTTP request sent, awaiting response... 200 OK\n",
            "Length: 6702 (6.5K) [text/plain]\n",
            "Saving to: ‘helper_colab.py’\n",
            "\n",
            "\rhelper_colab.py       0%[                    ]       0  --.-KB/s               \rhelper_colab.py     100%[===================>]   6.54K  --.-KB/s    in 0s      \n",
            "\n",
            "2019-01-17 04:34:33 (245 MB/s) - ‘helper_colab.py’ saved [6702/6702]\n",
            "\n"
          ],
          "name": "stdout"
        }
      ]
    },
    {
      "metadata": {
        "id": "95J37QpAFXoq",
        "colab_type": "code",
        "colab": {}
      },
      "cell_type": "code",
      "source": [
        "from helper_colab import *"
      ],
      "execution_count": 0,
      "outputs": []
    },
    {
      "metadata": {
        "id": "d5A8Neq4hiMd",
        "colab_type": "text"
      },
      "cell_type": "markdown",
      "source": [
        "#### 1 - Feature extraction"
      ]
    },
    {
      "metadata": {
        "id": "6Y2ToSmChiMg",
        "colab_type": "text"
      },
      "cell_type": "markdown",
      "source": [
        "### 1a)\n",
        "Study generate feature vector(df) in the helper.py file. The input to this function is a pd.DataFrame containing the data for a single patient admission. The output is a python dictio- nary object, corresponding to a d-dimensional feature vector for this patient (with missing values). The keys of this dictionary are feature names, and the values are the corresponding feature values. For the time-invariant variables, we use the raw values. We replace unknown observations (−1) with unde- fined (use np.nan), and name these features with the original variable names. For each time-varying variable, we compute the mean of all measurements for that variable.\n",
        "\n",
        "(i) Read the [documentation](https://physionet.org/challenge/2012/\\#general-descriptors) on the variable ICUType, and reflect on the current feature representation of this variable.**What does such a representation imply, when using a linear classifier? How else might you represent this variable (as possibly more than one feature)?**\n",
        "\n",
        "(ii) Here we only consider the mean of the numerical variables. **What limitations are associated with this representation? What other summary statistics could be useful?**\n",
        "\n",
        "\n",
        "\n",
        "### 1b)\n",
        "Study impute missing values(X). Given a feature matrix X (where each row corresponds to a patient admission and each column a feature) with missing values, we consider each feature column independently. For each column, we impute the missing values by replacing it with the mean value of the observed values in that column.**What assumptions does this imputation approach make? How else might you handle missing data?**\n",
        "\n",
        "### 1c)\n",
        "Notice that many of these feature values lie on very different scales. To address this, we normalize each feature column xd to have range between 0 and 1. **Why might it be useful to scale the features in this way?**"
      ]
    },
    {
      "metadata": {
        "id": "onrzkSvihiMj",
        "colab_type": "text"
      },
      "cell_type": "markdown",
      "source": [
        "### 1d)\n",
        "Review the implementation of get train test split(). This helper function uses the three functions described above. First, it generates a feature vector for each patient, then aggregates them into a feature matrix (features are sorted alphabetically by name), and lastly performs imputation and normal- ization with respect to the population. After all these steps, it splits the data into 80% train and 20% test. Report\n",
        "\n",
        "(i) the dimensionality $d$ of feature vector\n",
        "(ii) the average feature vector, and the corresponding name for each feature of the training set."
      ]
    },
    {
      "metadata": {
        "id": "CJzZtq3ehiMo",
        "colab_type": "code",
        "colab": {
          "base_uri": "https://localhost:8080/",
          "height": 52
        },
        "outputId": "42cdb7e9-e706-4fd2-ad1d-c6407bd17c60"
      },
      "cell_type": "code",
      "source": [
        "X_train, y_train, X_test, y_test, feature_names = get_train_test_split()"
      ],
      "execution_count": 5,
      "outputs": [
        {
          "output_type": "stream",
          "text": [
            "Loading files from disk: 100%|██████████| 2500/2500 [10:19<00:00,  4.97it/s]\n",
            "Generating feature vectors: 100%|██████████| 2500/2500 [01:38<00:00, 25.41it/s]\n"
          ],
          "name": "stderr"
        }
      ]
    },
    {
      "metadata": {
        "id": "Xfe4SbuxhiMz",
        "colab_type": "code",
        "colab": {
          "base_uri": "https://localhost:8080/",
          "height": 52
        },
        "outputId": "11f6ab69-522c-4ccf-bcf3-7a90325ad7f2"
      },
      "cell_type": "code",
      "source": [
        "print(\"Dimensionality:\")\n",
        "print(f\"d = {X_train.shape[1]}\")"
      ],
      "execution_count": 6,
      "outputs": [
        {
          "output_type": "stream",
          "text": [
            "Dimensionality:\n",
            "d = 40\n"
          ],
          "name": "stdout"
        }
      ]
    },
    {
      "metadata": {
        "id": "wCHS8Xh1hiNG",
        "colab_type": "code",
        "colab": {
          "base_uri": "https://localhost:8080/",
          "height": 746
        },
        "outputId": "c2675bbb-fdd2-4125-85a6-7dbd3dd1e11b"
      },
      "cell_type": "code",
      "source": [
        "print(\"Average feature vector:\")\n",
        "print(pd.DataFrame({\"Feature Name\": feature_names, \"Mean value\": X_train.mean(axis=0)}))"
      ],
      "execution_count": 7,
      "outputs": [
        {
          "output_type": "stream",
          "text": [
            "Average feature vector:\n",
            "        Feature Name  Mean value\n",
            "0                Age    0.653507\n",
            "1             Gender    0.557000\n",
            "2             Height    0.390707\n",
            "3            ICUType    0.578333\n",
            "4             Weight    0.236098\n",
            "5           mean_ALP    0.058284\n",
            "6           mean_ALT    0.015867\n",
            "7           mean_AST    0.013781\n",
            "8       mean_Albumin    0.445900\n",
            "9           mean_BUN    0.143020\n",
            "10    mean_Bilirubin    0.039455\n",
            "11  mean_Cholesterol    0.368926\n",
            "12   mean_Creatinine    0.082277\n",
            "13      mean_DiasABP    0.555640\n",
            "14         mean_FiO2    0.359233\n",
            "15          mean_GCS    0.720369\n",
            "16      mean_Glucose    0.207822\n",
            "17         mean_HCO3    0.382337\n",
            "18          mean_HCT    0.416416\n",
            "19           mean_HR    0.467974\n",
            "20            mean_K    0.338213\n",
            "21      mean_Lactate    0.076291\n",
            "22          mean_MAP    0.300090\n",
            "23           mean_Mg    0.158574\n",
            "24    mean_NIDiasABP    0.542114\n",
            "25        mean_NIMAP    0.575976\n",
            "26     mean_NISysABP    0.501373\n",
            "27           mean_Na    0.515676\n",
            "28        mean_PaCO2    0.322203\n",
            "29         mean_PaO2    0.284249\n",
            "30    mean_Platelets    0.214156\n",
            "31     mean_RespRate    0.350176\n",
            "32         mean_SaO2    0.937895\n",
            "33       mean_SysABP    0.649529\n",
            "34         mean_Temp    0.674652\n",
            "35    mean_TroponinI    0.136583\n",
            "36    mean_TroponinT    0.046039\n",
            "37        mean_Urine    0.061263\n",
            "38          mean_WBC    0.090518\n",
            "39           mean_pH    0.011406\n"
          ],
          "name": "stdout"
        }
      ]
    },
    {
      "metadata": {
        "id": "fdFTrKrKhiNQ",
        "colab_type": "text"
      },
      "cell_type": "markdown",
      "source": [
        "#### 2 - Hyperparameter and model selection"
      ]
    },
    {
      "metadata": {
        "id": "Gfxt9TVbhiNS",
        "colab_type": "text"
      },
      "cell_type": "markdown",
      "source": [
        "##### 2.1 - Linear-kernel SVM"
      ]
    },
    {
      "metadata": {
        "id": "UOkxk7DfhiNT",
        "colab_type": "text"
      },
      "cell_type": "markdown",
      "source": [
        "##### 2.1a\n",
        "\n",
        "To begin, complete the implementation of the function cv\\_performance(clf, X, y, metric=\\textquotesingle accuracy\\textquotesingle, k=5) as defined in the skeleton code. Here, you will make use of fit(X,y)  in the SVC class. The function returns the mean $k$-fold CV performance for the performance metric passed into the function. You should make use of the performance function in helper.py. When dividing the data into folds for CV, we use StratifiedKFold to try to keep the class proportions (ratio of positive to negative labels) roughly the same across folds. **Why might it be beneficial to maintain class proportions across folds?**"
      ]
    },
    {
      "metadata": {
        "id": "otsPo0AzhiNU",
        "colab_type": "code",
        "colab": {}
      },
      "cell_type": "code",
      "source": [
        "def cv_performance(clf, X, y, metric='auroc', k=5):\n",
        "    \"\"\"\n",
        "    Splits the data X and the labels y into k-folds and runs k-fold\n",
        "    cross-validation: for each fold i in 1...k, trains a classifier on\n",
        "    all the data except the ith fold, and tests on the ith fold.\n",
        "    Calculates the k-fold cross-validation performance metric for classifier\n",
        "    clf by averaging the performance across folds.\n",
        "    Input:\n",
        "        clf: an instance of SVC()\n",
        "        X: (n,d) array of feature vectors, where n is the number of examples\n",
        "           and d is the number of features\n",
        "        y: (n,) array of binary labels {1,-1}\n",
        "        k: an int specifying the number of folds (default=5)\n",
        "        metric: string specifying the performance metric (default='auroc'\n",
        "             other options: 'f1-score', 'auroc', 'precision', 'sensitivity',\n",
        "             and 'specificity')\n",
        "    Returns:\n",
        "        average 'validation' performance across the k folds as np.float64\n",
        "    \"\"\"\n",
        "    # TODO: Finish implementing this function\n",
        "    skf = StratifiedKFold(n_splits=k)\n",
        "    scores = []\n",
        "    # For each split in the k folds...\n",
        "    for train, val in skf.split(X,y):\n",
        "    # Fit the data to the training data...\n",
        "        X_train, y_train, X_val, y_val = X[train], y[train], X[val], y[val]\n",
        "        # Fit the data to the training data...\n",
        "        ################ COMPLETE###############\n",
        "        # And test on the val fold.\n",
        "        score = performance(clf, X_val, y_val, metric)\n",
        "        scores.append(score)\n",
        "\n",
        "    # And return the average performance across all fold splits.\n",
        "    return np.array(scores).mean()"
      ],
      "execution_count": 0,
      "outputs": []
    },
    {
      "metadata": {
        "id": "oj8UwrnWhiNb",
        "colab_type": "text"
      },
      "cell_type": "markdown",
      "source": [
        "### 2.1b\n",
        "Now implement the select param linear(X, y, metric='accuracy', k=5, C range=[]) function to choose a value of C for a linear SVM, using 5-fold cross validation on the training data maximizing AUROC. This function should call the cv performance function that you implemented in part(a), passing in instances of SVC(kernel='linear', C=C).\n"
      ]
    },
    {
      "metadata": {
        "id": "9DW-InkchiNh",
        "colab_type": "code",
        "colab": {}
      },
      "cell_type": "code",
      "source": [
        "def select_param_linear(X, y, metric='auroc', k=5, C_range = []):\n",
        "    \"\"\"\n",
        "    Sweeps different settings for the hyperparameter of a linear-kernel SVM,\n",
        "    calculating the k-fold CV performance for each setting on X, y.\n",
        "    Input:\n",
        "        X: (n,d) array of feature vectors, where n is the number of examples\n",
        "        and d is the number of features\n",
        "        y: (n,) array of binary labels {1,-1}\n",
        "        k: int specifying the number of folds (default=5)\n",
        "        metric: string specifying the performance metric (default='accuracy',\n",
        "             other options: 'f1-score', 'auroc', 'precision', 'sensitivity',\n",
        "             and 'specificity')\n",
        "        C_range: an array with C values to be searched over\n",
        "    Returns:\n",
        "        The parameter value for a linear-kernel SVM that maximizes the\n",
        "        average 5-fold CV performance.\n",
        "    \"\"\"\n",
        "    # TODO: Finish implementing this function\n",
        "    #HINT: You should be using your cv_performance function here\n",
        "    #to evaluate the performance of each SVM\n",
        "    print(\"Linear SVM Hyperparameter Selection based on %s:\" %metric)\n",
        "    scores = []\n",
        "    # Iterate over all of the given c parameters...\n",
        "    for c in C_range:\n",
        "        #Calculate the average performance on k-fold cross-validation\n",
        "        ########COMPLETE###########\n",
        "        score = []\n",
        "        print(\"C: %.3f score: %.4f\" % (c, score))\n",
        "        scores.append((c, score))\n",
        "        \n",
        "    # Return the C value with the maximum score\n",
        "    maxval = max(scores, key=lambda x: x[1])\n",
        "    return maxval[0]\n"
      ],
      "execution_count": 0,
      "outputs": []
    },
    {
      "metadata": {
        "id": "p070mOFLhiNo",
        "colab_type": "text"
      },
      "cell_type": "markdown",
      "source": [
        "### 2.1c\n",
        "\n",
        "Finally, using the training data and the functions implemented here, find the best setting for C (searching over a range of values for C chosen in powers of 10 between 10^−3 and 10^3)"
      ]
    },
    {
      "metadata": {
        "id": "JTvXRsLbhiNq",
        "colab_type": "code",
        "colab": {
          "base_uri": "https://localhost:8080/",
          "height": 156
        },
        "outputId": "61392a65-29bd-436e-e4ff-0b7405155675"
      },
      "cell_type": "code",
      "source": [
        "best_C = select_param_linear(X_train, y_train, 'auroc', 5, np.logspace(-3, 3, 7))"
      ],
      "execution_count": 10,
      "outputs": [
        {
          "output_type": "stream",
          "text": [
            "Linear SVM Hyperparameter Selection based on auroc:\n",
            "C: 0.001 score: 0.7691\n",
            "C: 0.010 score: 0.7676\n",
            "C: 0.100 score: 0.7689\n",
            "C: 1.000 score: 0.7737\n",
            "C: 10.000 score: 0.7718\n",
            "C: 100.000 score: 0.7711\n",
            "C: 1000.000 score: 0.7688\n"
          ],
          "name": "stdout"
        }
      ]
    },
    {
      "metadata": {
        "id": "bjniJ-dJhiNy",
        "colab_type": "code",
        "colab": {
          "base_uri": "https://localhost:8080/",
          "height": 34
        },
        "outputId": "346bfefa-f496-4119-81b1-190050cc408b"
      },
      "cell_type": "code",
      "source": [
        "print(f\"Performance against C increases then decreases. Best C is {best_C:.3f}\")"
      ],
      "execution_count": 11,
      "outputs": [
        {
          "output_type": "stream",
          "text": [
            "Performance against C increases then decreases. Best C is 1.000\n"
          ],
          "name": "stdout"
        }
      ]
    },
    {
      "metadata": {
        "id": "WtU1PZGThiN4",
        "colab_type": "code",
        "colab": {}
      },
      "cell_type": "code",
      "source": [
        "linear_clf = get_classifier(C=best_C)\n",
        "linear_clf.fit(X_train, y_train)\n",
        "test_perf = performance(linear_clf, X_test, y_test, 'auroc')"
      ],
      "execution_count": 0,
      "outputs": []
    },
    {
      "metadata": {
        "id": "3-MhSv97hiOB",
        "colab_type": "text"
      },
      "cell_type": "markdown",
      "source": [
        "##### 2.1d"
      ]
    },
    {
      "metadata": {
        "id": "LMxTVv2FhiOF",
        "colab_type": "code",
        "colab": {
          "base_uri": "https://localhost:8080/",
          "height": 34
        },
        "outputId": "0c6339d1-873a-4b19-f977-3a8935766394"
      },
      "cell_type": "code",
      "source": [
        "print(f\"Test performance is {test_perf:.4f}\")"
      ],
      "execution_count": 13,
      "outputs": [
        {
          "output_type": "stream",
          "text": [
            "Test performance is 0.8418\n"
          ],
          "name": "stdout"
        }
      ]
    },
    {
      "metadata": {
        "id": "F9NK4wYIhiOW",
        "colab_type": "code",
        "colab": {
          "base_uri": "https://localhost:8080/",
          "height": 376
        },
        "outputId": "3400f502-7b8b-4be1-838d-bf22d202d153"
      },
      "cell_type": "code",
      "source": [
        "plot_ROC_curve(linear_clf, X_test, y_test)"
      ],
      "execution_count": 14,
      "outputs": [
        {
          "output_type": "display_data",
          "data": {
            "image/png": "[encoded data removed]",
            "text/plain": [
              "<Figure size 576x396 with 1 Axes>"
            ]
          },
          "metadata": {
            "tags": []
          }
        }
      ]
    },
    {
      "metadata": {
        "id": "OLbPgHqahiOi",
        "colab_type": "text"
      },
      "cell_type": "markdown",
      "source": [
        "##### 2.1e"
      ]
    },
    {
      "metadata": {
        "id": "ro9N4pgjhiOk",
        "colab_type": "code",
        "colab": {}
      },
      "cell_type": "code",
      "source": [
        "linear_clf = get_classifier(C=1)\n",
        "linear_clf.fit(X_train, y_train)\n",
        "weights = pd.DataFrame({'feature_name': feature_names, 'weight': linear_clf.coef_[0]})"
      ],
      "execution_count": 0,
      "outputs": []
    },
    {
      "metadata": {
        "id": "L8MYdgynhiOv",
        "colab_type": "code",
        "colab": {
          "base_uri": "https://localhost:8080/",
          "height": 746
        },
        "outputId": "a23f9126-09a3-4e7f-8876-95391ec018ef"
      },
      "cell_type": "code",
      "source": [
        "print(f\"Features ranked per coefficient:\")\n",
        "print(weights.sort_values(by='weight', ascending=False))"
      ],
      "execution_count": 16,
      "outputs": [
        {
          "output_type": "stream",
          "text": [
            "Features ranked per coefficient:\n",
            "        feature_name    weight\n",
            "39           mean_pH  0.677943\n",
            "7           mean_AST  0.484692\n",
            "21      mean_Lactate  0.362667\n",
            "10    mean_Bilirubin  0.297603\n",
            "5           mean_ALP  0.263556\n",
            "9           mean_BUN  0.155025\n",
            "38          mean_WBC  0.077498\n",
            "0                Age  0.067744\n",
            "35    mean_TroponinI  0.066873\n",
            "22          mean_MAP  0.065677\n",
            "31     mean_RespRate  0.058358\n",
            "19           mean_HR  0.050881\n",
            "26     mean_NISysABP  0.049003\n",
            "18          mean_HCT  0.041773\n",
            "11  mean_Cholesterol  0.041305\n",
            "16      mean_Glucose  0.036840\n",
            "30    mean_Platelets  0.032735\n",
            "14         mean_FiO2  0.020657\n",
            "36    mean_TroponinT  0.013341\n",
            "1             Gender  0.005947\n",
            "3            ICUType  0.004637\n",
            "8       mean_Albumin  0.003720\n",
            "33       mean_SysABP  0.003638\n",
            "2             Height  0.001137\n",
            "28        mean_PaCO2 -0.000406\n",
            "25        mean_NIMAP -0.019868\n",
            "4             Weight -0.030102\n",
            "29         mean_PaO2 -0.030510\n",
            "17         mean_HCO3 -0.042887\n",
            "12   mean_Creatinine -0.043633\n",
            "24    mean_NIDiasABP -0.051920\n",
            "13      mean_DiasABP -0.067058\n",
            "20            mean_K -0.068291\n",
            "23           mean_Mg -0.075940\n",
            "34         mean_Temp -0.087824\n",
            "27           mean_Na -0.089769\n",
            "15          mean_GCS -0.090731\n",
            "32         mean_SaO2 -0.096989\n",
            "37        mean_Urine -0.143621\n",
            "6           mean_ALT -0.316106\n"
          ],
          "name": "stdout"
        }
      ]
    },
    {
      "metadata": {
        "id": "qiylGNnahiO1",
        "colab_type": "text"
      },
      "cell_type": "markdown",
      "source": [
        "On the [Glasgow Coma Scale](https://en.wikipedia.org/wiki/Glasgow_Coma_Scale) a higher value indicates a higher level of consciousness for the patient (the higher the better), hence the negative coeficient for mean_GCS makes sense."
      ]
    },
    {
      "metadata": {
        "id": "BDnpGzE1hiO2",
        "colab_type": "text"
      },
      "cell_type": "markdown",
      "source": [
        "##### 2.2 - RBF-kernel SVM"
      ]
    },
    {
      "metadata": {
        "id": "jTe0wxLshiO5",
        "colab_type": "text"
      },
      "cell_type": "markdown",
      "source": [
        "##### 2.2a"
      ]
    },
    {
      "metadata": {
        "id": "0L8gIj6uhiO6",
        "colab_type": "code",
        "colab": {}
      },
      "cell_type": "code",
      "source": [
        "def select_param_rbf(X, y, metric='auroc', k=5, param_range=[]):\n",
        "    \"\"\"\n",
        "    Sweeps different settings for the hyperparameters of an RBF-kernel SVM,\n",
        "    calculating the k-fold CV performance for each setting on X, y.\n",
        "    Input:\n",
        "        X: (n,d) array of feature vectors, where n is the number of examples\n",
        "           and d is the number of features\n",
        "        y: (n,) array of binary labels {1,-1}\n",
        "        k: an int specifying the number of folds (default=5)\n",
        "        metric: string specifying the performance metric (default='accuracy'\n",
        "                 other options: 'f1-score', 'auroc', 'precision', 'sensitivity',\n",
        "                 and 'specificity')\n",
        "        parameter_values: a (num_param, 2)-sized array containing the\n",
        "            parameter values to search over. The first column should\n",
        "            represent the values for C, and the second column should\n",
        "            represent the values for gamma. Each row of this array thus\n",
        "            represents a pair of parameters to be tried together.\n",
        "    Returns:\n",
        "        The parameter value(s) for a RBF-kernel SVM that maximize\n",
        "        the average 5-fold CV performance\n",
        "    \"\"\"\n",
        "    # TODO: Finish implementing this function\n",
        "    # Hint: This will be very similar to select_param_linear, except\n",
        "    # the type of SVM model you are using will be different...\n",
        "    print(\"RBF SVM Hyperparameter Selection based on %s:\" %metric)\n",
        "    scores = []\n",
        "    # For each parameter pair to try...\n",
        "    for p in param_range:\n",
        "        c= p[0]\n",
        "        gamma = p[1]\n",
        "        clf = get_classifier(kernel='rbf', C=c, gamma=gamma)\n",
        "        # Determine the performance of the defined SVM\n",
        "        score = cv_performance(clf, X, y, metric, k)\n",
        "        \n",
        "        print(\"C: %.3f gamma: %.3f score: %.4f\" % (c, gamma, score))\n",
        "        scores.append((c, gamma, score))\n",
        "    # And report the pair (C,gamma) that yielded the best metric performance\n",
        "    maxval = max(scores, key=lambda x: x[2])\n",
        "    return maxval[0], maxval[1]\n"
      ],
      "execution_count": 0,
      "outputs": []
    },
    {
      "metadata": {
        "id": "bfUm6fnbhiO9",
        "colab_type": "text"
      },
      "cell_type": "markdown",
      "source": [
        "##### 2.2b"
      ]
    },
    {
      "metadata": {
        "id": "zq-EoNuUhiPD",
        "colab_type": "code",
        "colab": {}
      },
      "cell_type": "code",
      "source": [
        "import itertools"
      ],
      "execution_count": 0,
      "outputs": []
    },
    {
      "metadata": {
        "id": "1fjS2vt6hiPL",
        "colab_type": "code",
        "colab": {
          "base_uri": "https://localhost:8080/",
          "height": 885
        },
        "outputId": "e6a46da5-686b-4eba-bf16-66ed213db9b0"
      },
      "cell_type": "code",
      "source": [
        "C_range = np.logspace(-3, 3, 7)\n",
        "coeff_range = list(np.logspace(-3, 3, 7))\n",
        "param_range = list(itertools.product(C_range, coeff_range))\n",
        "best_C, best_gamma = select_param_rbf(X_train, y_train, 'auroc', 5, param_range)"
      ],
      "execution_count": 22,
      "outputs": [
        {
          "output_type": "stream",
          "text": [
            "RBF SVM Hyperparameter Selection based on auroc:\n",
            "C: 0.001 gamma: 0.001 score: 0.7447\n",
            "C: 0.001 gamma: 0.010 score: 0.7524\n",
            "C: 0.001 gamma: 0.100 score: 0.7505\n",
            "C: 0.001 gamma: 1.000 score: 0.7869\n",
            "C: 0.001 gamma: 10.000 score: 0.7366\n",
            "C: 0.001 gamma: 100.000 score: 0.6772\n",
            "C: 0.001 gamma: 1000.000 score: 0.5000\n",
            "C: 0.010 gamma: 0.001 score: 0.7447\n",
            "C: 0.010 gamma: 0.010 score: 0.7524\n",
            "C: 0.010 gamma: 0.100 score: 0.7730\n",
            "C: 0.010 gamma: 1.000 score: 0.8056\n",
            "C: 0.010 gamma: 10.000 score: 0.7910\n",
            "C: 0.010 gamma: 100.000 score: 0.7377\n",
            "C: 0.010 gamma: 1000.000 score: 0.5000\n",
            "C: 0.100 gamma: 0.001 score: 0.7456\n",
            "C: 0.100 gamma: 0.010 score: 0.7572\n",
            "C: 0.100 gamma: 0.100 score: 0.7866\n",
            "C: 0.100 gamma: 1.000 score: 0.8059\n",
            "C: 0.100 gamma: 10.000 score: 0.7912\n",
            "C: 0.100 gamma: 100.000 score: 0.7396\n",
            "C: 0.100 gamma: 1000.000 score: 0.5000\n",
            "C: 1.000 gamma: 0.001 score: 0.7624\n",
            "C: 1.000 gamma: 0.010 score: 0.7732\n",
            "C: 1.000 gamma: 0.100 score: 0.7850\n",
            "C: 1.000 gamma: 1.000 score: 0.8055\n",
            "C: 1.000 gamma: 10.000 score: 0.7911\n",
            "C: 1.000 gamma: 100.000 score: 0.7388\n",
            "C: 1.000 gamma: 1000.000 score: 0.5003\n",
            "C: 10.000 gamma: 0.001 score: 0.7687\n",
            "C: 10.000 gamma: 0.010 score: 0.7768\n",
            "C: 10.000 gamma: 0.100 score: 0.7877\n",
            "C: 10.000 gamma: 1.000 score: 0.8043\n",
            "C: 10.000 gamma: 10.000 score: 0.7867\n",
            "C: 10.000 gamma: 100.000 score: 0.7397\n",
            "C: 10.000 gamma: 1000.000 score: 0.5006\n",
            "C: 100.000 gamma: 0.001 score: 0.7726\n",
            "C: 100.000 gamma: 0.010 score: 0.7778\n",
            "C: 100.000 gamma: 0.100 score: 0.7929\n",
            "C: 100.000 gamma: 1.000 score: 0.7808\n",
            "C: 100.000 gamma: 10.000 score: 0.7867\n",
            "C: 100.000 gamma: 100.000 score: 0.7397\n",
            "C: 100.000 gamma: 1000.000 score: 0.5006\n",
            "C: 1000.000 gamma: 0.001 score: 0.7752\n",
            "C: 1000.000 gamma: 0.010 score: 0.7825\n",
            "C: 1000.000 gamma: 0.100 score: 0.7838\n",
            "C: 1000.000 gamma: 1.000 score: 0.7802\n",
            "C: 1000.000 gamma: 10.000 score: 0.7867\n",
            "C: 1000.000 gamma: 100.000 score: 0.7397\n",
            "C: 1000.000 gamma: 1000.000 score: 0.5006\n"
          ],
          "name": "stdout"
        }
      ]
    },
    {
      "metadata": {
        "id": "YFcK0RuzhiPU",
        "colab_type": "text"
      },
      "cell_type": "markdown",
      "source": [
        "##### b"
      ]
    },
    {
      "metadata": {
        "id": "LCHnJuYAhiPW",
        "colab_type": "code",
        "colab": {
          "base_uri": "https://localhost:8080/",
          "height": 34
        },
        "outputId": "739d2c43-abe1-4858-f62b-9b7109571814"
      },
      "cell_type": "code",
      "source": [
        "print(f\"The best pair of parameters is (C, gamma) = ({best_C:.6f}, {best_gamma:.5f})\")"
      ],
      "execution_count": 23,
      "outputs": [
        {
          "output_type": "stream",
          "text": [
            "The best pair of parameters is (C, gamma) = (0.100000, 1.00000)\n"
          ],
          "name": "stdout"
        }
      ]
    },
    {
      "metadata": {
        "id": "oobf_jtXhiPh",
        "colab_type": "code",
        "colab": {}
      },
      "cell_type": "code",
      "source": [
        "rbf_clf = get_classifier(kernel='rbf', C=best_C, gamma=best_gamma)\n",
        "rbf_clf.fit(X_train, y_train)\n",
        "test_perf = performance(rbf_clf, X_test, y_test, \"auroc\")"
      ],
      "execution_count": 0,
      "outputs": []
    },
    {
      "metadata": {
        "id": "GoIu00IZhiPj",
        "colab_type": "code",
        "colab": {
          "base_uri": "https://localhost:8080/",
          "height": 34
        },
        "outputId": "d3d231c2-0681-4375-f902-b57f4dfa19de"
      },
      "cell_type": "code",
      "source": [
        "print(f\"Test performance is {test_perf:.4f}. We observe a slight improvement in comparison with the linear-kernel SVM.\")"
      ],
      "execution_count": 25,
      "outputs": [
        {
          "output_type": "stream",
          "text": [
            "Test performance is 0.8535. We observe a slight improvement in comparison with the linear-kernel SVM.\n"
          ],
          "name": "stdout"
        }
      ]
    },
    {
      "metadata": {
        "id": "HwDkgrYKhiPp",
        "colab_type": "code",
        "colab": {
          "base_uri": "https://localhost:8080/",
          "height": 376
        },
        "outputId": "e63dc7f2-0fae-43ef-87d0-86ace61b0650"
      },
      "cell_type": "code",
      "source": [
        "plot_ROC_curve(rbf_clf, X_test, y_test)"
      ],
      "execution_count": 26,
      "outputs": [
        {
          "output_type": "display_data",
          "data": {
            "image/png": "[encoded data removed]",
            "text/plain": [
              "<Figure size 576x396 with 1 Axes>"
            ]
          },
          "metadata": {
            "tags": []
          }
        }
      ]
    }
  ]
}
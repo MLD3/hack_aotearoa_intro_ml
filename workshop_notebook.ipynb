{
 "cells": [
  {
   "cell_type": "markdown",
   "metadata": {},
   "source": [
    "#### 0 - Requirements\n",
    "Check scikit-learn version, install tqdm if necessary, load useful packages."
   ]
  },
  {
   "cell_type": "code",
   "execution_count": 1,
   "metadata": {
    "collapsed": true
   },
   "outputs": [],
   "source": [
    "import sklearn"
   ]
  },
  {
   "cell_type": "code",
   "execution_count": 2,
   "metadata": {},
   "outputs": [
    {
     "name": "stdout",
     "output_type": "stream",
     "text": [
      "You are using scikit-learn version 0.20.0\n"
     ]
    }
   ],
   "source": [
    "print(f\"You are using scikit-learn version {sklearn.__version__}\")"
   ]
  },
  {
   "cell_type": "code",
   "execution_count": 3,
   "metadata": {},
   "outputs": [
    {
     "name": "stdout",
     "output_type": "stream",
     "text": [
      "Solving environment: done\n",
      "\n",
      "# All requested packages already installed.\n",
      "\n"
     ]
    }
   ],
   "source": [
    "!conda install -y tqdm"
   ]
  },
  {
   "cell_type": "code",
   "execution_count": 4,
   "metadata": {
    "collapsed": true
   },
   "outputs": [],
   "source": [
    "import pandas as pd\n",
    "import numpy as np\n",
    "import itertools"
   ]
  },
  {
   "cell_type": "code",
   "execution_count": 5,
   "metadata": {
    "collapsed": true
   },
   "outputs": [],
   "source": [
    "from helper import *"
   ]
  },
  {
   "cell_type": "markdown",
   "metadata": {},
   "source": [
    "#### 1 - Feature extraction"
   ]
  },
  {
   "cell_type": "markdown",
   "metadata": {},
   "source": [
    "##### a\n",
    "- Feed ICUType as is into a linear model imply that the feature will be interpreted as a numerical feature. Especially this implies the order Coronary Care Unit < Cardiac Surgery < Recovery Unit < Surgical ICU. This can be circumvent by a one hot encoding preprocessing step.\n",
    "- By aggregating the time series we lose information. For example we get rid of the variation of the features over time. Example of statistics: max, min, max - min\n",
    "\n",
    "##### b\n",
    "Mean imputation is very sensitive to outliers so an asumption to check could be the absence of extreme values. We can use other statistics such as the mode, create a new modality to account for a missing value or to think about more complex methods (ex: k nearest neighbors imputation).\n",
    "\n",
    "##### c\n",
    "This is to avoid that features with a wider scale have a greater impact during the model training. For example pH has a finite scale (0-14) while weight hasn't and can have much bigger values."
   ]
  },
  {
   "cell_type": "markdown",
   "metadata": {},
   "source": [
    "##### d"
   ]
  },
  {
   "cell_type": "code",
   "execution_count": 6,
   "metadata": {},
   "outputs": [
    {
     "name": "stderr",
     "output_type": "stream",
     "text": [
      "Loading files from disk: 100%|██████████| 2500/2500 [00:03<00:00, 643.85it/s]\n",
      "Generating feature vectors: 100%|██████████| 2500/2500 [00:16<00:00, 155.05it/s]\n"
     ]
    }
   ],
   "source": [
    "X_train, y_train, X_test, y_test, feature_names = get_train_test_split()"
   ]
  },
  {
   "cell_type": "code",
   "execution_count": 7,
   "metadata": {},
   "outputs": [
    {
     "name": "stdout",
     "output_type": "stream",
     "text": [
      "Dimensionality:\n",
      "d = 40\n"
     ]
    }
   ],
   "source": [
    "print(\"Dimensionality:\")\n",
    "print(f\"d = {X_train.shape[1]}\")"
   ]
  },
  {
   "cell_type": "code",
   "execution_count": 8,
   "metadata": {},
   "outputs": [
    {
     "name": "stdout",
     "output_type": "stream",
     "text": [
      "Average feature vector:\n",
      "        Feature Name  Mean value\n",
      "0                Age    0.653507\n",
      "1             Gender    0.557000\n",
      "2             Height    0.390707\n",
      "3            ICUType    0.578333\n",
      "4             Weight    0.236098\n",
      "5           mean_ALP    0.058284\n",
      "6           mean_ALT    0.015867\n",
      "7           mean_AST    0.013781\n",
      "8       mean_Albumin    0.445900\n",
      "9           mean_BUN    0.143020\n",
      "10    mean_Bilirubin    0.039455\n",
      "11  mean_Cholesterol    0.368926\n",
      "12   mean_Creatinine    0.082277\n",
      "13      mean_DiasABP    0.555640\n",
      "14         mean_FiO2    0.359233\n",
      "15          mean_GCS    0.720369\n",
      "16      mean_Glucose    0.207822\n",
      "17         mean_HCO3    0.382337\n",
      "18          mean_HCT    0.416416\n",
      "19           mean_HR    0.467974\n",
      "20            mean_K    0.338213\n",
      "21      mean_Lactate    0.076291\n",
      "22          mean_MAP    0.300090\n",
      "23           mean_Mg    0.158574\n",
      "24    mean_NIDiasABP    0.542114\n",
      "25        mean_NIMAP    0.575976\n",
      "26     mean_NISysABP    0.501373\n",
      "27           mean_Na    0.515676\n",
      "28        mean_PaCO2    0.322203\n",
      "29         mean_PaO2    0.284249\n",
      "30    mean_Platelets    0.214156\n",
      "31     mean_RespRate    0.350176\n",
      "32         mean_SaO2    0.937895\n",
      "33       mean_SysABP    0.649529\n",
      "34         mean_Temp    0.674652\n",
      "35    mean_TroponinI    0.136583\n",
      "36    mean_TroponinT    0.046039\n",
      "37        mean_Urine    0.061263\n",
      "38          mean_WBC    0.090518\n",
      "39           mean_pH    0.011406\n"
     ]
    }
   ],
   "source": [
    "print(\"Average feature vector:\")\n",
    "print(pd.DataFrame({\"Feature Name\": feature_names, \"Mean value\": X_train.mean(axis=0)}))"
   ]
  },
  {
   "cell_type": "markdown",
   "metadata": {},
   "source": [
    "#### 2 - Hyperparameter and model selection"
   ]
  },
  {
   "cell_type": "markdown",
   "metadata": {},
   "source": [
    "##### 2.1 - Linear-kernel SVM"
   ]
  },
  {
   "cell_type": "markdown",
   "metadata": {},
   "source": [
    "##### a"
   ]
  },
  {
   "cell_type": "code",
   "execution_count": 9,
   "metadata": {
    "collapsed": true
   },
   "outputs": [],
   "source": [
    "def cv_performance(clf, X, y, metric='auroc', k=5):\n",
    "    \"\"\"\n",
    "    Splits the data X and the labels y into k-folds and runs k-fold\n",
    "    cross-validation: for each fold i in 1...k, trains a classifier on\n",
    "    all the data except the ith fold, and tests on the ith fold.\n",
    "    Calculates the k-fold cross-validation performance metric for classifier\n",
    "    clf by averaging the performance across folds.\n",
    "    Input:\n",
    "        clf: an instance of SVC()\n",
    "        X: (n,d) array of feature vectors, where n is the number of examples\n",
    "           and d is the number of features\n",
    "        y: (n,) array of binary labels {1,-1}\n",
    "        k: an int specifying the number of folds (default=5)\n",
    "        metric: string specifying the performance metric (default='auroc'\n",
    "             other options: 'f1-score', 'auroc', 'precision', 'sensitivity',\n",
    "             and 'specificity')\n",
    "    Returns:\n",
    "        average 'validation' performance across the k folds as np.float64\n",
    "    \"\"\"\n",
    "    # TODO: Finish implementing this function\n",
    "    skf = StratifiedKFold(n_splits=k)\n",
    "    scores = []\n",
    "    # For each split in the k folds...\n",
    "    for train, val in skf.split(X,y):\n",
    "    # Fit the data to the training data...\n",
    "    \n",
    "        # Fit the data to the training data...\n",
    "        \n",
    "        # And get test performance on the val fold.\n",
    "        score = []\n",
    "        scores.append(score)\n",
    "\n",
    "    # And return the average performance across all fold splits.\n",
    "    return np.array(scores).mean()"
   ]
  },
  {
   "cell_type": "markdown",
   "metadata": {},
   "source": [
    "##### b"
   ]
  },
  {
   "cell_type": "code",
   "execution_count": 10,
   "metadata": {
    "collapsed": true
   },
   "outputs": [],
   "source": [
    "def select_param_linear(X, y, metric='auroc', k=5, C_range = []):\n",
    "    \"\"\"\n",
    "    Sweeps different settings for the hyperparameter of a linear-kernel SVM,\n",
    "    calculating the k-fold CV performance for each setting on X, y.\n",
    "    Input:\n",
    "        X: (n,d) array of feature vectors, where n is the number of examples\n",
    "        and d is the number of features\n",
    "        y: (n,) array of binary labels {1,-1}\n",
    "        k: int specifying the number of folds (default=5)\n",
    "        metric: string specifying the performance metric (default='accuracy',\n",
    "             other options: 'f1-score', 'auroc', 'precision', 'sensitivity',\n",
    "             and 'specificity')\n",
    "        C_range: an array with C values to be searched over\n",
    "    Returns:\n",
    "        The parameter value for a linear-kernel SVM that maximizes the\n",
    "        average 5-fold CV performance.\n",
    "    \"\"\"\n",
    "    # TODO: Finish implementing this function\n",
    "    #HINT: You should be using your cv_performance function here\n",
    "    #to evaluate the performance of each SVM\n",
    "    print(\"Linear SVM Hyperparameter Selection based on %s:\" %metric)\n",
    "    scores = []\n",
    "    # Iterate over all of the given c parameters...\n",
    "    for c in C_range:\n",
    "        #Calculate the average performance on k-fold cross-validation\n",
    "        score = []\n",
    "        print(\"C: %.3f score: %.4f\" % (c, score))\n",
    "        scores.append((c, score))\n",
    "        \n",
    "    # Return the C value with the maximum score\n",
    "    maxval = max(scores, key=lambda x: x[1])\n",
    "    return maxval[0]"
   ]
  },
  {
   "cell_type": "markdown",
   "metadata": {},
   "source": [
    "##### c"
   ]
  },
  {
   "cell_type": "code",
   "execution_count": 11,
   "metadata": {},
   "outputs": [
    {
     "name": "stdout",
     "output_type": "stream",
     "text": [
      "Linear SVM Hyperparameter Selection based on auroc:\n",
      "C: 0.001 score: 0.7691\n",
      "C: 0.010 score: 0.7676\n",
      "C: 0.100 score: 0.7689\n",
      "C: 1.000 score: 0.7737\n",
      "C: 10.000 score: 0.7718\n",
      "C: 100.000 score: 0.7708\n",
      "C: 1000.000 score: 0.7688\n"
     ]
    }
   ],
   "source": [
    "best_C = select_param_linear(X_train, y_train, 'auroc', 5, np.logspace(-3, 3, 7))"
   ]
  },
  {
   "cell_type": "code",
   "execution_count": 12,
   "metadata": {},
   "outputs": [
    {
     "name": "stdout",
     "output_type": "stream",
     "text": [
      "Performance against C increases then decreases. Best C is 1.000\n"
     ]
    }
   ],
   "source": [
    "print(f\"Performance against C increases then decreases. Best C is {best_C:.3f}\")"
   ]
  },
  {
   "cell_type": "code",
   "execution_count": 13,
   "metadata": {
    "collapsed": true
   },
   "outputs": [],
   "source": [
    "linear_clf = get_classifier(C=best_C)\n",
    "linear_clf.fit(X_train, y_train)\n",
    "test_perf = performance(linear_clf, X_test, y_test, 'auroc')"
   ]
  },
  {
   "cell_type": "markdown",
   "metadata": {},
   "source": [
    "##### d"
   ]
  },
  {
   "cell_type": "code",
   "execution_count": 14,
   "metadata": {},
   "outputs": [
    {
     "name": "stdout",
     "output_type": "stream",
     "text": [
      "Test performance is 0.8418\n"
     ]
    }
   ],
   "source": [
    "print(f\"Test performance is {test_perf:.4f}\")"
   ]
  },
  {
   "cell_type": "code",
   "execution_count": 15,
   "metadata": {},
   "outputs": [
    {
     "data": {
      "image/png": "[encoded data removed]",
      "text/plain": [
       "<Figure size 432x288 with 1 Axes>"
      ]
     },
     "metadata": {},
     "output_type": "display_data"
    }
   ],
   "source": [
    "plot_ROC_curve(linear_clf, X_test, y_test)"
   ]
  },
  {
   "cell_type": "markdown",
   "metadata": {},
   "source": [
    "##### e"
   ]
  },
  {
   "cell_type": "code",
   "execution_count": 16,
   "metadata": {
    "collapsed": true
   },
   "outputs": [],
   "source": [
    "linear_clf = get_classifier(C=1)\n",
    "linear_clf.fit(X_train, y_train)\n",
    "weights = pd.DataFrame({'feature_name': feature_names, 'weight': linear_clf.coef_[0]})"
   ]
  },
  {
   "cell_type": "code",
   "execution_count": 17,
   "metadata": {},
   "outputs": [
    {
     "name": "stdout",
     "output_type": "stream",
     "text": [
      "Features ranked per coefficient:\n",
      "        feature_name    weight\n",
      "39           mean_pH  0.677943\n",
      "7           mean_AST  0.484692\n",
      "21      mean_Lactate  0.362667\n",
      "10    mean_Bilirubin  0.297603\n",
      "5           mean_ALP  0.263556\n",
      "9           mean_BUN  0.155025\n",
      "38          mean_WBC  0.077498\n",
      "0                Age  0.067744\n",
      "35    mean_TroponinI  0.066873\n",
      "22          mean_MAP  0.065677\n",
      "31     mean_RespRate  0.058358\n",
      "19           mean_HR  0.050881\n",
      "26     mean_NISysABP  0.049003\n",
      "18          mean_HCT  0.041773\n",
      "11  mean_Cholesterol  0.041305\n",
      "16      mean_Glucose  0.036840\n",
      "30    mean_Platelets  0.032735\n",
      "14         mean_FiO2  0.020657\n",
      "36    mean_TroponinT  0.013341\n",
      "1             Gender  0.005947\n",
      "3            ICUType  0.004637\n",
      "8       mean_Albumin  0.003720\n",
      "33       mean_SysABP  0.003638\n",
      "2             Height  0.001137\n",
      "28        mean_PaCO2 -0.000406\n",
      "25        mean_NIMAP -0.019868\n",
      "4             Weight -0.030102\n",
      "29         mean_PaO2 -0.030510\n",
      "17         mean_HCO3 -0.042887\n",
      "12   mean_Creatinine -0.043633\n",
      "24    mean_NIDiasABP -0.051920\n",
      "13      mean_DiasABP -0.067058\n",
      "20            mean_K -0.068291\n",
      "23           mean_Mg -0.075940\n",
      "34         mean_Temp -0.087824\n",
      "27           mean_Na -0.089769\n",
      "15          mean_GCS -0.090731\n",
      "32         mean_SaO2 -0.096989\n",
      "37        mean_Urine -0.143621\n",
      "6           mean_ALT -0.316106\n"
     ]
    }
   ],
   "source": [
    "print(f\"Features ranked per coefficient:\")\n",
    "print(weights.sort_values(by='weight', ascending=False))"
   ]
  },
  {
   "cell_type": "markdown",
   "metadata": {},
   "source": [
    "On the [Glasgow Coma Scale](https://en.wikipedia.org/wiki/Glasgow_Coma_Scale) a higher value indicates a higher level of consciousness for the patient (the higher the better), hence the negative coeficient for mean_GCS makes sense."
   ]
  },
  {
   "cell_type": "markdown",
   "metadata": {},
   "source": [
    "##### 2.2 - RBF-kernel SVM"
   ]
  },
  {
   "cell_type": "markdown",
   "metadata": {},
   "source": [
    "##### a"
   ]
  },
  {
   "cell_type": "code",
   "execution_count": 18,
   "metadata": {
    "collapsed": true
   },
   "outputs": [],
   "source": [
    "def select_param_rbf(X, y, metric='auroc', k=5, param_range=[]):\n",
    "    \"\"\"\n",
    "    Sweeps different settings for the hyperparameters of an RBF-kernel SVM,\n",
    "    calculating the k-fold CV performance for each setting on X, y.\n",
    "    Input:\n",
    "        X: (n,d) array of feature vectors, where n is the number of examples\n",
    "           and d is the number of features\n",
    "        y: (n,) array of binary labels {1,-1}\n",
    "        k: an int specifying the number of folds (default=5)\n",
    "        metric: string specifying the performance metric (default='accuracy'\n",
    "                 other options: 'f1-score', 'auroc', 'precision', 'sensitivity',\n",
    "                 and 'specificity')\n",
    "        parameter_values: a (num_param, 2)-sized array containing the\n",
    "            parameter values to search over. The first column should\n",
    "            represent the values for C, and the second column should\n",
    "            represent the values for gamma. Each row of this array thus\n",
    "            represents a pair of parameters to be tried together.\n",
    "    Returns:\n",
    "        The parameter value(s) for a RBF-kernel SVM that maximize\n",
    "        the average 5-fold CV performance\n",
    "    \"\"\"\n",
    "    # TODO: Finish implementing this function\n",
    "    # Hint: This will be very similar to select_param_linear, except\n",
    "    # the type of SVM model you are using will be different...\n",
    "    print(\"RBF SVM Hyperparameter Selection based on %s:\" %metric)\n",
    "    scores = []\n",
    "    # For each parameter pair to try...\n",
    "    for p in param_range:\n",
    "        # Determine the performance of the defined SVM\n",
    "        gamma=0.0\n",
    "        c=0.0\n",
    "        score=[]\n",
    "        print(\"C: %.3f gamma: %.3f score: %.4f\" % (c, gamma, score))\n",
    "        scores.append((c, gamma, score))\n",
    "    # And report the pair (C,gamma) that yielded the best metric performance\n",
    "    maxval = max(scores, key=lambda x: x[2])\n",
    "    return maxval[0], maxval[1]\n"
   ]
  },
  {
   "cell_type": "markdown",
   "metadata": {},
   "source": [
    "##### b"
   ]
  },
  {
   "cell_type": "code",
   "execution_count": 19,
   "metadata": {
    "collapsed": true
   },
   "outputs": [],
   "source": [
    "import itertools"
   ]
  },
  {
   "cell_type": "code",
   "execution_count": 20,
   "metadata": {},
   "outputs": [
    {
     "name": "stdout",
     "output_type": "stream",
     "text": [
      "RBF SVM Hyperparameter Selection based on auroc:\n",
      "C: 0.001 gamma: 0.001 score: 0.7447\n",
      "C: 0.001 gamma: 0.010 score: 0.7524\n",
      "C: 0.001 gamma: 0.100 score: 0.7505\n",
      "C: 0.001 gamma: 1.000 score: 0.7869\n",
      "C: 0.001 gamma: 10.000 score: 0.7366\n",
      "C: 0.001 gamma: 100.000 score: 0.6772\n",
      "C: 0.001 gamma: 1000.000 score: 0.5000\n",
      "C: 0.010 gamma: 0.001 score: 0.7447\n",
      "C: 0.010 gamma: 0.010 score: 0.7524\n",
      "C: 0.010 gamma: 0.100 score: 0.7730\n",
      "C: 0.010 gamma: 1.000 score: 0.8056\n",
      "C: 0.010 gamma: 10.000 score: 0.7910\n",
      "C: 0.010 gamma: 100.000 score: 0.7377\n",
      "C: 0.010 gamma: 1000.000 score: 0.5000\n",
      "C: 0.100 gamma: 0.001 score: 0.7456\n",
      "C: 0.100 gamma: 0.010 score: 0.7572\n",
      "C: 0.100 gamma: 0.100 score: 0.7866\n",
      "C: 0.100 gamma: 1.000 score: 0.8059\n",
      "C: 0.100 gamma: 10.000 score: 0.7912\n",
      "C: 0.100 gamma: 100.000 score: 0.7396\n",
      "C: 0.100 gamma: 1000.000 score: 0.5000\n",
      "C: 1.000 gamma: 0.001 score: 0.7624\n",
      "C: 1.000 gamma: 0.010 score: 0.7732\n",
      "C: 1.000 gamma: 0.100 score: 0.7850\n",
      "C: 1.000 gamma: 1.000 score: 0.8055\n",
      "C: 1.000 gamma: 10.000 score: 0.7911\n",
      "C: 1.000 gamma: 100.000 score: 0.7388\n",
      "C: 1.000 gamma: 1000.000 score: 0.5003\n",
      "C: 10.000 gamma: 0.001 score: 0.7687\n",
      "C: 10.000 gamma: 0.010 score: 0.7768\n",
      "C: 10.000 gamma: 0.100 score: 0.7877\n",
      "C: 10.000 gamma: 1.000 score: 0.8043\n",
      "C: 10.000 gamma: 10.000 score: 0.7867\n",
      "C: 10.000 gamma: 100.000 score: 0.7397\n",
      "C: 10.000 gamma: 1000.000 score: 0.5006\n",
      "C: 100.000 gamma: 0.001 score: 0.7726\n",
      "C: 100.000 gamma: 0.010 score: 0.7778\n",
      "C: 100.000 gamma: 0.100 score: 0.7929\n",
      "C: 100.000 gamma: 1.000 score: 0.7808\n",
      "C: 100.000 gamma: 10.000 score: 0.7867\n",
      "C: 100.000 gamma: 100.000 score: 0.7397\n",
      "C: 100.000 gamma: 1000.000 score: 0.5006\n",
      "C: 1000.000 gamma: 0.001 score: 0.7752\n",
      "C: 1000.000 gamma: 0.010 score: 0.7825\n",
      "C: 1000.000 gamma: 0.100 score: 0.7838\n",
      "C: 1000.000 gamma: 1.000 score: 0.7802\n",
      "C: 1000.000 gamma: 10.000 score: 0.7867\n",
      "C: 1000.000 gamma: 100.000 score: 0.7397\n",
      "C: 1000.000 gamma: 1000.000 score: 0.5006\n"
     ]
    }
   ],
   "source": [
    "C_range = np.logspace(-3, 3, 7)\n",
    "coeff_range = list(np.logspace(-3, 3, 7))\n",
    "param_range = list(itertools.product(C_range, coeff_range))\n",
    "best_C, best_gamma = select_param_rbf(X_train, y_train, 'auroc', 5, param_range)"
   ]
  },
  {
   "cell_type": "markdown",
   "metadata": {},
   "source": [
    "##### b"
   ]
  },
  {
   "cell_type": "code",
   "execution_count": 21,
   "metadata": {},
   "outputs": [
    {
     "name": "stdout",
     "output_type": "stream",
     "text": [
      "The best pair of parameters is (C, gamma) = (0.100000, 1.00000)\n"
     ]
    }
   ],
   "source": [
    "print(f\"The best pair of parameters is (C, gamma) = ({best_C:.6f}, {best_gamma:.5f})\")"
   ]
  },
  {
   "cell_type": "code",
   "execution_count": 22,
   "metadata": {
    "collapsed": true
   },
   "outputs": [],
   "source": [
    "rbf_clf = get_classifier(kernel='rbf', C=best_C, gamma=best_gamma)\n",
    "rbf_clf.fit(X_train, y_train)\n",
    "test_perf = performance(rbf_clf, X_test, y_test, \"auroc\")"
   ]
  },
  {
   "cell_type": "code",
   "execution_count": 24,
   "metadata": {},
   "outputs": [
    {
     "name": "stdout",
     "output_type": "stream",
     "text": [
      "Test performance is 0.8535. We observe a slight improvement in comparison with the linear-kernel SVM.\n"
     ]
    }
   ],
   "source": [
    "print(f\"Test performance is {test_perf:.4f}. We observe a slight improvement in comparison with the linear-kernel SVM.\")"
   ]
  },
  {
   "cell_type": "code",
   "execution_count": 25,
   "metadata": {},
   "outputs": [
    {
     "data": {
      "image/png": "[encoded data removed]",
      "text/plain": [
       "<Figure size 432x288 with 1 Axes>"
      ]
     },
     "metadata": {},
     "output_type": "display_data"
    }
   ],
   "source": [
    "plot_ROC_curve(rbf_clf, X_test, y_test)"
   ]
  },
  {
   "cell_type": "code",
   "execution_count": null,
   "metadata": {
    "collapsed": true
   },
   "outputs": [],
   "source": []
  }
 ],
 "metadata": {
  "kernelspec": {
   "display_name": "Python 3",
   "language": "python",
   "name": "python3"
  },
  "language_info": {
   "codemirror_mode": {
    "name": "ipython",
    "version": 3
   },
   "file_extension": ".py",
   "mimetype": "text/x-python",
   "name": "python",
   "nbconvert_exporter": "python",
   "pygments_lexer": "ipython3",
   "version": "3.6.8"
  }
 },
 "nbformat": 4,
 "nbformat_minor": 2
}
